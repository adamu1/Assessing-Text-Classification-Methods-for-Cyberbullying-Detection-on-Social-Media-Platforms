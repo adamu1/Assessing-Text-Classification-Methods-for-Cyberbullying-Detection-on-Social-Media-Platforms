{
 "cells": [
  {
   "cell_type": "markdown",
   "metadata": {
    "id": "JiIg_5F_5Qr9"
   },
   "source": [
    "# Detecting Cyberbullying on Social Media Platforms using BERT"
   ]
  },
  {
   "cell_type": "markdown",
   "metadata": {},
   "source": [
    "## Custom functions definition:"
   ]
  },
  {
   "cell_type": "code",
   "execution_count": 1,
   "metadata": {
    "_kg_hide-input": true
   },
   "outputs": [],
   "source": [
    "def conf_matrix(y, y_pred, title, labels):\n",
    "    fig, ax =plt.subplots(figsize=(7.5,7.5))\n",
    "    ax=sns.heatmap(confusion_matrix(y, y_pred), annot=True, cmap=\"Purples\", fmt='g', cbar=False, annot_kws={\"size\":30})\n",
    "    plt.title(title, fontsize=25)\n",
    "    ax.xaxis.set_ticklabels(labels, fontsize=16) \n",
    "    ax.yaxis.set_ticklabels(labels, fontsize=14.5)\n",
    "    ax.set_ylabel('Test', fontsize=25)\n",
    "    ax.set_xlabel('Predicted', fontsize=25)\n",
    "    plt.show()"
   ]
  },
  {
   "cell_type": "code",
   "execution_count": 2,
   "metadata": {},
   "outputs": [],
   "source": [
    "#pip install langdetect"
   ]
  },
  {
   "cell_type": "code",
   "execution_count": 3,
   "metadata": {},
   "outputs": [],
   "source": [
    "#pip install contractions"
   ]
  },
  {
   "cell_type": "markdown",
   "metadata": {},
   "source": [
    "## Import libraries"
   ]
  },
  {
   "cell_type": "code",
   "execution_count": 4,
   "metadata": {
    "id": "D0GOzHmK5QsH",
    "outputId": "6d6c64e4-3e99-4f85-b52e-323b3c44638c"
   },
   "outputs": [
    {
     "data": {
      "text/plain": [
       "<Figure size 640x480 with 0 Axes>"
      ]
     },
     "metadata": {},
     "output_type": "display_data"
    }
   ],
   "source": [
    "# Libraries for general purpose\n",
    "import pandas as pd\n",
    "import numpy as np\n",
    "import matplotlib.pyplot as plt\n",
    "import seaborn as sns\n",
    "\n",
    "# Text cleaning\n",
    "import re\n",
    "import string\n",
    "import emoji\n",
    "import nltk\n",
    "from nltk.stem import WordNetLemmatizer, PorterStemmer\n",
    "from nltk.corpus import stopwords\n",
    "\n",
    "# Data preprocessing\n",
    "from sklearn import preprocessing\n",
    "from sklearn.model_selection import train_test_split\n",
    "from imblearn.over_sampling import RandomOverSampler\n",
    "from langdetect import detect, LangDetectException\n",
    "import contractions\n",
    "from nltk.tokenize import word_tokenize\n",
    "\n",
    "# Naive Bayes\n",
    "from sklearn.feature_extraction.text import CountVectorizer\n",
    "from sklearn.feature_extraction.text import TfidfTransformer\n",
    "from sklearn.naive_bayes import MultinomialNB\n",
    "\n",
    "# PyTorch LSTM\n",
    "import torch\n",
    "import torch.nn as nn\n",
    "import torch.nn.functional as F\n",
    "import torch.optim as optim\n",
    "from torch.utils.data import TensorDataset, DataLoader, RandomSampler, SequentialSampler\n",
    "\n",
    "# Tokenization for LSTM\n",
    "from collections import Counter\n",
    "from gensim.models import Word2Vec\n",
    "\n",
    "# Transformers library for BERT\n",
    "import transformers\n",
    "from transformers import BertModel\n",
    "from transformers import BertTokenizer\n",
    "from transformers import AdamW, get_linear_schedule_with_warmup\n",
    "from sklearn.metrics import classification_report, confusion_matrix\n",
    "\n",
    "import time\n",
    "\n",
    "# Set seed for reproducibility\n",
    "import random\n",
    "seed_value = 2042\n",
    "random.seed(seed_value)\n",
    "np.random.seed(seed_value)\n",
    "torch.manual_seed(seed_value)\n",
    "torch.cuda.manual_seed_all(seed_value)\n",
    "\n",
    "# Set style for plots\n",
    "sns.set_style(\"whitegrid\")\n",
    "sns.despine()\n",
    "\n",
    "# Remove plt.style.use(\"seaborn-whitegrid\") since it's redundant\n",
    "plt.rc(\"figure\", autolayout=True)\n",
    "plt.rc(\"axes\", labelweight=\"bold\", labelsize=\"large\", titleweight=\"bold\", titlepad=10)\n",
    "\n",
    "\n",
    "# Define stop words for text cleaning\n",
    "stop_words = set(stopwords.words('english'))\n",
    "\n",
    "# Initialize lemmatizer for text cleaning\n",
    "lemmatizer = WordNetLemmatizer()"
   ]
  },
  {
   "cell_type": "markdown",
   "metadata": {},
   "source": [
    "## Data Import"
   ]
  },
  {
   "cell_type": "code",
   "execution_count": 5,
   "metadata": {
    "id": "aCVJ1XJi5QsI"
   },
   "outputs": [],
   "source": [
    "df = pd.read_csv(\"../datasets/CyberbullyingTypesDataset.csv\", encoding=\"iso-8859-1\")"
   ]
  },
  {
   "cell_type": "code",
   "execution_count": 6,
   "metadata": {
    "id": "NPhe4rM35QsJ",
    "outputId": "af96c916-52c8-431b-a85c-bb72d1ce6bce"
   },
   "outputs": [
    {
     "data": {
      "text/html": [
       "<div>\n",
       "<style scoped>\n",
       "    .dataframe tbody tr th:only-of-type {\n",
       "        vertical-align: middle;\n",
       "    }\n",
       "\n",
       "    .dataframe tbody tr th {\n",
       "        vertical-align: top;\n",
       "    }\n",
       "\n",
       "    .dataframe thead th {\n",
       "        text-align: right;\n",
       "    }\n",
       "</style>\n",
       "<table border=\"1\" class=\"dataframe\">\n",
       "  <thead>\n",
       "    <tr style=\"text-align: right;\">\n",
       "      <th></th>\n",
       "      <th>Tweet</th>\n",
       "      <th>Class</th>\n",
       "    </tr>\n",
       "  </thead>\n",
       "  <tbody>\n",
       "    <tr>\n",
       "      <th>0</th>\n",
       "      <td>Post-Cuomo push to toughen NY sexual harassmen...</td>\n",
       "      <td>Sexual Harassment</td>\n",
       "    </tr>\n",
       "    <tr>\n",
       "      <th>1</th>\n",
       "      <td>Push to toughen NY sexual harassment laws that...</td>\n",
       "      <td>Sexual Harassment</td>\n",
       "    </tr>\n",
       "    <tr>\n",
       "      <th>2</th>\n",
       "      <td>@GabbieHanna As if Trisha didnât accuse him ...</td>\n",
       "      <td>Sexual Harassment</td>\n",
       "    </tr>\n",
       "    <tr>\n",
       "      <th>3</th>\n",
       "      <td>@fentsemadii True is that ð¥ thou I know not...</td>\n",
       "      <td>Sexual Harassment</td>\n",
       "    </tr>\n",
       "    <tr>\n",
       "      <th>4</th>\n",
       "      <td>Watch the recap video of the two-day hands-on ...</td>\n",
       "      <td>Sexual Harassment</td>\n",
       "    </tr>\n",
       "  </tbody>\n",
       "</table>\n",
       "</div>"
      ],
      "text/plain": [
       "                                               Tweet              Class\n",
       "0  Post-Cuomo push to toughen NY sexual harassmen...  Sexual Harassment\n",
       "1  Push to toughen NY sexual harassment laws that...  Sexual Harassment\n",
       "2  @GabbieHanna As if Trisha didnât accuse him ...  Sexual Harassment\n",
       "3  @fentsemadii True is that ð¥ thou I know not...  Sexual Harassment\n",
       "4  Watch the recap video of the two-day hands-on ...  Sexual Harassment"
      ]
     },
     "execution_count": 6,
     "metadata": {},
     "output_type": "execute_result"
    }
   ],
   "source": [
    "df.head()"
   ]
  },
  {
   "cell_type": "code",
   "execution_count": 7,
   "metadata": {},
   "outputs": [
    {
     "name": "stdout",
     "output_type": "stream",
     "text": [
      "<class 'pandas.core.frame.DataFrame'>\n",
      "RangeIndex: 2140 entries, 0 to 2139\n",
      "Data columns (total 2 columns):\n",
      " #   Column  Non-Null Count  Dtype \n",
      "---  ------  --------------  ----- \n",
      " 0   Tweet   2140 non-null   object\n",
      " 1   Class   2140 non-null   object\n",
      "dtypes: object(2)\n",
      "memory usage: 33.6+ KB\n"
     ]
    }
   ],
   "source": [
    "df.info()"
   ]
  },
  {
   "cell_type": "markdown",
   "metadata": {},
   "source": [
    "First we rename the columns using shorter words for easier reference."
   ]
  },
  {
   "cell_type": "code",
   "execution_count": 8,
   "metadata": {
    "id": "AwUN352x5QsK"
   },
   "outputs": [],
   "source": [
    "df = df.rename(columns={'Tweet': 'text', 'Class': 'sentiment'})"
   ]
  },
  {
   "cell_type": "markdown",
   "metadata": {
    "id": "u9wTHjTcc1D7"
   },
   "source": [
    "### Are there duplicated tweets?"
   ]
  },
  {
   "cell_type": "code",
   "execution_count": 9,
   "metadata": {},
   "outputs": [
    {
     "data": {
      "text/plain": [
       "32"
      ]
     },
     "execution_count": 9,
     "metadata": {},
     "output_type": "execute_result"
    }
   ],
   "source": [
    "df.duplicated().sum()"
   ]
  },
  {
   "cell_type": "markdown",
   "metadata": {},
   "source": [
    "There are some duplicated tweets, we will remove them."
   ]
  },
  {
   "cell_type": "code",
   "execution_count": 10,
   "metadata": {
    "id": "4u7mn7wkchxj"
   },
   "outputs": [],
   "source": [
    "df = df[~df.duplicated()]"
   ]
  },
  {
   "cell_type": "code",
   "execution_count": 11,
   "metadata": {
    "id": "oedUGlQ9crg2",
    "outputId": "2b094807-c074-4174-ee3d-1e81bfdd5b0f"
   },
   "outputs": [
    {
     "name": "stdout",
     "output_type": "stream",
     "text": [
      "<class 'pandas.core.frame.DataFrame'>\n",
      "Index: 2108 entries, 0 to 2139\n",
      "Data columns (total 2 columns):\n",
      " #   Column     Non-Null Count  Dtype \n",
      "---  ------     --------------  ----- \n",
      " 0   text       2108 non-null   object\n",
      " 1   sentiment  2108 non-null   object\n",
      "dtypes: object(2)\n",
      "memory usage: 49.4+ KB\n"
     ]
    }
   ],
   "source": [
    "df.info()"
   ]
  },
  {
   "cell_type": "markdown",
   "metadata": {},
   "source": [
    "### Are the classes balanced?"
   ]
  },
  {
   "cell_type": "code",
   "execution_count": 12,
   "metadata": {
    "id": "c82luV2N5QsN",
    "outputId": "5b926ea0-59ec-46e9-97fe-08f72237a419"
   },
   "outputs": [
    {
     "data": {
      "text/plain": [
       "sentiment\n",
       "Slut Shaming         495\n",
       "Sexual Harassment    494\n",
       "Doxing               437\n",
       "Revenge Porn         382\n",
       "Cyberstalking        300\n",
       "Name: count, dtype: int64"
      ]
     },
     "execution_count": 12,
     "metadata": {},
     "output_type": "execute_result"
    }
   ],
   "source": [
    "df.sentiment.value_counts()"
   ]
  },
  {
   "cell_type": "markdown",
   "metadata": {},
   "source": [
    "The classes look balanced."
   ]
  },
  {
   "cell_type": "markdown",
   "metadata": {
    "execution": {
     "iopub.execute_input": "2022-01-19T09:34:52.112295Z",
     "iopub.status.busy": "2022-01-19T09:34:52.112005Z",
     "iopub.status.idle": "2022-01-19T09:34:53.14386Z",
     "shell.execute_reply": "2022-01-19T09:34:53.142913Z",
     "shell.execute_reply.started": "2022-01-19T09:34:52.112262Z"
    },
    "id": "DGmYrF4d5QsP"
   },
   "source": [
    "# Tweets text deep cleaning"
   ]
  },
  {
   "cell_type": "markdown",
   "metadata": {},
   "source": [
    "Next, we will define custom functions to clean the texts of the tweets."
   ]
  },
  {
   "cell_type": "code",
   "execution_count": 13,
   "metadata": {
    "id": "E5E1UwMc5QsQ"
   },
   "outputs": [],
   "source": [
    "# Clean emojis from text\n",
    "def strip_emoji(text):\n",
    "    # Ensure the input is a string\n",
    "    if not isinstance(text, str):\n",
    "        text = str(text)  # Convert non-strings to string (e.g., float, NaN)\n",
    "    \n",
    "    emoji_pattern = re.compile(\n",
    "        \"[\\U0001F600-\\U0001F64F\"  # emoticons\n",
    "        \"\\U0001F300-\\U0001F5FF\"  # symbols & pictographs\n",
    "        \"\\U0001F680-\\U0001F6FF\"  # transport & map symbols\n",
    "        \"\\U0001F700-\\U0001F77F\"  # alchemical symbols\n",
    "        \"\\U0001F780-\\U0001F7FF\"  # Geometric Shapes Extended\n",
    "        \"\\U0001F800-\\U0001F8FF\"  # Supplemental Arrows-C\n",
    "        \"\\U0001F900-\\U0001F9FF\"  # Supplemental Symbols and Pictographs\n",
    "        \"\\U0001FA00-\\U0001FA6F\"  # Chess Symbols\n",
    "        \"\\U0001FA70-\\U0001FAFF\"  # Symbols and Pictographs Extended-A\n",
    "        \"\\U00002702-\\U000027B0\"  # Dingbats\n",
    "        \"\\U000024C2-\\U0001F251\"  # Enclosed characters\n",
    "        \"]+\", flags=re.UNICODE)\n",
    "    \n",
    "    return emoji_pattern.sub(r'', text)\n",
    "\n",
    "# Remove punctuations, stopwords, links, mentions, and new line characters\n",
    "def strip_all_entities(text):\n",
    "    if not isinstance(text, str):\n",
    "        text = str(text)  # Convert non-strings to string (e.g., float, NaN)\n",
    "        \n",
    "    text = re.sub(r'\\r|\\n', ' ', text.lower())  # Replace newline and carriage return with space, and convert to lowercase\n",
    "    text = re.sub(r\"(?:\\@|https?\\://)\\S+\", \"\", text)  # Remove links and mentions\n",
    "    text = re.sub(r'[^\\x00-\\x7f]', '', text)  # Remove non-ASCII characters\n",
    "    banned_list = string.punctuation\n",
    "    table = str.maketrans('', '', banned_list)\n",
    "    text = text.translate(table)\n",
    "    text = ' '.join(word for word in text.split() if word not in stop_words)\n",
    "    return text\n",
    "\n",
    "# Clean hashtags at the end of the sentence, and keep those in the middle of the sentence by removing just the # symbol\n",
    "def clean_hashtags(tweet):\n",
    "    if not isinstance(tweet, str):\n",
    "        tweet = str(tweet)  # Convert non-strings to string (e.g., float, NaN)\n",
    "    \n",
    "    # Remove hashtags at the end of the sentence\n",
    "    new_tweet = re.sub(r'(\\s+#[\\w-]+)+\\s*$', '', tweet).strip()\n",
    "    \n",
    "    # Remove the # symbol from hashtags in the middle of the sentence\n",
    "    new_tweet = re.sub(r'#([\\w-]+)', r'\\1', new_tweet).strip()\n",
    "    \n",
    "    return new_tweet\n",
    "\n",
    "# Filter special characters such as & and $ present in some words\n",
    "def filter_chars(text):\n",
    "    if not isinstance(text, str):\n",
    "        text = str(text)  # Convert non-strings to string (e.g., float, NaN)\n",
    "    return ' '.join('' if ('$' in word) or ('&' in word) else word for word in text.split())\n",
    "\n",
    "# Remove multiple spaces\n",
    "def remove_mult_spaces(text):\n",
    "    if not isinstance(text, str):\n",
    "        text = str(text)  # Convert non-strings to string (e.g., float, NaN)\n",
    "    return re.sub(r\"\\s\\s+\", \" \", text)\n",
    "\n",
    "# Function to check if the text is in English, and return an empty string if it's not\n",
    "def filter_non_english(text):\n",
    "    try:\n",
    "        lang = detect(text)\n",
    "    except LangDetectException:\n",
    "        lang = \"unknown\"\n",
    "    return text if lang == \"en\" else \"\"\n",
    "\n",
    "# Expand contractions\n",
    "def expand_contractions(text):\n",
    "    if not isinstance(text, str):\n",
    "        text = str(text)  # Convert non-strings to string (e.g., float, NaN)\n",
    "    return contractions.fix(text)\n",
    "\n",
    "# Remove numbers\n",
    "def remove_numbers(text):\n",
    "    if not isinstance(text, str):\n",
    "        text = str(text)  # Convert non-strings to string (e.g., float, NaN)\n",
    "    return re.sub(r'\\d+', '', text)\n",
    "\n",
    "# Lemmatize words\n",
    "def lemmatize(text):\n",
    "    if not isinstance(text, str):\n",
    "        text = str(text)  # Convert non-strings to string (e.g., float, NaN)\n",
    "    words = word_tokenize(text)\n",
    "    lemmatized_words = [lemmatizer.lemmatize(word) for word in words]\n",
    "    return ' '.join(lemmatized_words)\n",
    "\n",
    "# Remove short words\n",
    "def remove_short_words(text, min_len=2):\n",
    "    if not isinstance(text, str):\n",
    "        text = str(text)  # Convert non-strings to string (e.g., float, NaN)\n",
    "    words = text.split()\n",
    "    long_words = [word for word in words if len(word) >= min_len]\n",
    "    return ' '.join(long_words)\n",
    "\n",
    "# Replace elongated words with their base form\n",
    "def replace_elongated_words(text):\n",
    "    if not isinstance(text, str):\n",
    "        text = str(text)  # Convert non-strings to string (e.g., float, NaN)\n",
    "    regex_pattern = r'\\b(\\w+)((\\w)\\3{2,})(\\w*)\\b'\n",
    "    return re.sub(regex_pattern, r'\\1\\3\\4', text)\n",
    "\n",
    "# Remove repeated punctuation\n",
    "def remove_repeated_punctuation(text):\n",
    "    if not isinstance(text, str):\n",
    "        text = str(text)  # Convert non-strings to string (e.g., float, NaN)\n",
    "    return re.sub(r'[\\?\\.\\!]+(?=[\\?\\.\\!])', '', text)\n",
    "\n",
    "# Remove extra whitespace\n",
    "def remove_extra_whitespace(text):\n",
    "    if not isinstance(text, str):\n",
    "        text = str(text)  # Convert non-strings to string (e.g., float, NaN)\n",
    "    return ' '.join(text.split())\n",
    "\n",
    "# Remove URL shorteners\n",
    "def remove_url_shorteners(text):\n",
    "    if not isinstance(text, str):\n",
    "        text = str(text)  # Convert non-strings to string (e.g., float, NaN)\n",
    "    return re.sub(r'(?:http[s]?://)?(?:www\\.)?(?:bit\\.ly|goo\\.gl|t\\.co|tinyurl\\.com|tr\\.im|is\\.gd|cli\\.gs|u\\.nu|url\\.ie|tiny\\.cc|alturl\\.com|ow\\.ly|bit\\.do|adoro\\.to)\\S+', '', text)\n",
    "\n",
    "# Remove spaces at the beginning and end of the tweet\n",
    "def remove_spaces_tweets(tweet):\n",
    "    if not isinstance(tweet, str):\n",
    "        tweet = str(tweet)  # Convert non-strings to string (e.g., float, NaN)\n",
    "    return tweet.strip()\n",
    "\n",
    "# Remove short tweets\n",
    "def remove_short_tweets(tweet, min_words=3):\n",
    "    if not isinstance(tweet, str):\n",
    "        tweet = str(tweet)  # Convert non-strings to string (e.g., float, NaN)\n",
    "    words = tweet.split()\n",
    "    return tweet if len(words) >= min_words else \"\"\n",
    "\n",
    "# Function to call all the cleaning functions in the correct order\n",
    "def clean_tweet(tweet):\n",
    "    if not isinstance(tweet, str):\n",
    "        tweet = str(tweet)  # Ensure tweet is a string\n",
    "    \n",
    "    tweet = strip_emoji(tweet)\n",
    "    tweet = expand_contractions(tweet)\n",
    "    tweet = filter_non_english(tweet)\n",
    "    tweet = strip_all_entities(tweet)\n",
    "    tweet = clean_hashtags(tweet)\n",
    "    tweet = filter_chars(tweet)\n",
    "    tweet = remove_mult_spaces(tweet)\n",
    "    tweet = remove_numbers(tweet)\n",
    "    tweet = lemmatize(tweet)\n",
    "    tweet = remove_short_words(tweet)\n",
    "    tweet = replace_elongated_words(tweet)\n",
    "    tweet = remove_repeated_punctuation(tweet)\n",
    "    tweet = remove_extra_whitespace(tweet)\n",
    "    tweet = remove_url_shorteners(tweet)\n",
    "    tweet = remove_spaces_tweets(tweet)\n",
    "    tweet = remove_short_tweets(tweet)\n",
    "    tweet = ' '.join(tweet.split())  # Remove multiple spaces between words\n",
    "    return tweet\n"
   ]
  },
  {
   "cell_type": "code",
   "execution_count": 15,
   "metadata": {},
   "outputs": [],
   "source": [
    "df['text_clean'] = [clean_tweet(tweet) for tweet in df['text']]"
   ]
  },
  {
   "cell_type": "code",
   "execution_count": 16,
   "metadata": {},
   "outputs": [
    {
     "data": {
      "text/html": [
       "<div>\n",
       "<style scoped>\n",
       "    .dataframe tbody tr th:only-of-type {\n",
       "        vertical-align: middle;\n",
       "    }\n",
       "\n",
       "    .dataframe tbody tr th {\n",
       "        vertical-align: top;\n",
       "    }\n",
       "\n",
       "    .dataframe thead th {\n",
       "        text-align: right;\n",
       "    }\n",
       "</style>\n",
       "<table border=\"1\" class=\"dataframe\">\n",
       "  <thead>\n",
       "    <tr style=\"text-align: right;\">\n",
       "      <th></th>\n",
       "      <th>text</th>\n",
       "      <th>sentiment</th>\n",
       "      <th>text_clean</th>\n",
       "    </tr>\n",
       "  </thead>\n",
       "  <tbody>\n",
       "    <tr>\n",
       "      <th>0</th>\n",
       "      <td>Post-Cuomo push to toughen NY sexual harassmen...</td>\n",
       "      <td>Sexual Harassment</td>\n",
       "      <td>postcuomo push toughen ny sexual harassmentlaws</td>\n",
       "    </tr>\n",
       "    <tr>\n",
       "      <th>1</th>\n",
       "      <td>Push to toughen NY sexual harassment laws that...</td>\n",
       "      <td>Sexual Harassment</td>\n",
       "      <td>push toughen ny sexual harassment law gov cuom...</td>\n",
       "    </tr>\n",
       "    <tr>\n",
       "      <th>2</th>\n",
       "      <td>@GabbieHanna As if Trisha didnât accuse him ...</td>\n",
       "      <td>Sexual Harassment</td>\n",
       "      <td>trisha didnt accuse sexual harassment hadnt tr...</td>\n",
       "    </tr>\n",
       "    <tr>\n",
       "      <th>3</th>\n",
       "      <td>@fentsemadii True is that ð¥ thou I know not...</td>\n",
       "      <td>Sexual Harassment</td>\n",
       "      <td>true thou know nothing sexual harassment</td>\n",
       "    </tr>\n",
       "    <tr>\n",
       "      <th>4</th>\n",
       "      <td>Watch the recap video of the two-day hands-on ...</td>\n",
       "      <td>Sexual Harassment</td>\n",
       "      <td>watch recap video twoday handson executive wor...</td>\n",
       "    </tr>\n",
       "  </tbody>\n",
       "</table>\n",
       "</div>"
      ],
      "text/plain": [
       "                                                text          sentiment  \\\n",
       "0  Post-Cuomo push to toughen NY sexual harassmen...  Sexual Harassment   \n",
       "1  Push to toughen NY sexual harassment laws that...  Sexual Harassment   \n",
       "2  @GabbieHanna As if Trisha didnât accuse him ...  Sexual Harassment   \n",
       "3  @fentsemadii True is that ð¥ thou I know not...  Sexual Harassment   \n",
       "4  Watch the recap video of the two-day hands-on ...  Sexual Harassment   \n",
       "\n",
       "                                          text_clean  \n",
       "0    postcuomo push toughen ny sexual harassmentlaws  \n",
       "1  push toughen ny sexual harassment law gov cuom...  \n",
       "2  trisha didnt accuse sexual harassment hadnt tr...  \n",
       "3           true thou know nothing sexual harassment  \n",
       "4  watch recap video twoday handson executive wor...  "
      ]
     },
     "execution_count": 16,
     "metadata": {},
     "output_type": "execute_result"
    }
   ],
   "source": [
    "df.head()"
   ]
  },
  {
   "cell_type": "markdown",
   "metadata": {},
   "source": [
    "### Are there duplicate tweets after the cleaning?"
   ]
  },
  {
   "cell_type": "code",
   "execution_count": 17,
   "metadata": {},
   "outputs": [
    {
     "name": "stdout",
     "output_type": "stream",
     "text": [
      "There are around 294 duplicated tweets, we will remove them.\n"
     ]
    }
   ],
   "source": [
    "print(f'There are around {int(df[\"text_clean\"].duplicated().sum())} duplicated tweets, we will remove them.')"
   ]
  },
  {
   "cell_type": "code",
   "execution_count": 18,
   "metadata": {},
   "outputs": [],
   "source": [
    "df.drop_duplicates(\"text_clean\", inplace=True)"
   ]
  },
  {
   "cell_type": "markdown",
   "metadata": {},
   "source": [
    "We removed the duplicated cleaned tweets. How is the class balance after the cleaning?"
   ]
  },
  {
   "cell_type": "code",
   "execution_count": 19,
   "metadata": {},
   "outputs": [
    {
     "data": {
      "text/plain": [
       "sentiment\n",
       "Slut Shaming         449\n",
       "Sexual Harassment    387\n",
       "Doxing               369\n",
       "Revenge Porn         349\n",
       "Cyberstalking        260\n",
       "Name: count, dtype: int64"
      ]
     },
     "execution_count": 19,
     "metadata": {},
     "output_type": "execute_result"
    }
   ],
   "source": [
    "df.sentiment.value_counts()"
   ]
  },
  {
   "cell_type": "markdown",
   "metadata": {},
   "source": [
    "We can see that lots of tweets of the class \"other_cyberbullying\" have been removed. Since the class is very unbalanced compared to the other classes and looks too \"generic\", we decide to remove the tweets labeled belonging to this class.<br>\n",
    "EDIT: by performing some tests, the f1 score for predicting the \"other_cyberbullying\" resulted to be around 60%, a value far lower compared to the othter f1 scores (around 95% using LSTM model). This supports the decision of removing this generic class."
   ]
  },
  {
   "cell_type": "code",
   "execution_count": 20,
   "metadata": {},
   "outputs": [],
   "source": [
    "#df = df[df[\"sentiment\"]!=\"other_cyberbullying\"]"
   ]
  },
  {
   "cell_type": "markdown",
   "metadata": {},
   "source": [
    "Then we also define a list of the classes names, which will be useful for the future plots."
   ]
  },
  {
   "cell_type": "code",
   "execution_count": 21,
   "metadata": {},
   "outputs": [],
   "source": [
    "sentiment = [\"Cyberstalking\", \"Revenge Porn\", \"Doxing\", \"Sexual Harassment\", \"Slut Shaming\"]"
   ]
  },
  {
   "cell_type": "markdown",
   "metadata": {},
   "source": [
    "# Tweets length analysis"
   ]
  },
  {
   "cell_type": "markdown",
   "metadata": {},
   "source": [
    "Now we will define a new dataframe column containing the length of the cleaned tweets in terms of number of words."
   ]
  },
  {
   "cell_type": "code",
   "execution_count": 22,
   "metadata": {
    "id": "vQsHVXTA5QsV"
   },
   "outputs": [],
   "source": [
    "df['text_len'] = [len(text.split()) for text in df.text_clean]"
   ]
  },
  {
   "cell_type": "code",
   "execution_count": 23,
   "metadata": {
    "_kg_hide-input": true,
    "id": "HZcu8uGh5QsW",
    "outputId": "a43cd050-b496-4e23-9512-85ba09b18686"
   },
   "outputs": [
    {
     "data": {
      "image/png": "[encoded data removed]",
      "text/plain": [
       "<Figure size 700x500 with 1 Axes>"
      ]
     },
     "metadata": {},
     "output_type": "display_data"
    }
   ],
   "source": [
    "plt.figure(figsize=(7,5))\n",
    "ax = sns.countplot(x='text_len', data=df[df['text_len']<10], hue='text_len', palette='mako', legend=False)\n",
    "plt.title('Count of tweets with less than 10 words', fontsize=20)\n",
    "plt.yticks([])\n",
    "ax.bar_label(ax.containers[0])\n",
    "plt.ylabel('count')\n",
    "plt.xlabel('')\n",
    "plt.show()"
   ]
  },
  {
   "cell_type": "markdown",
   "metadata": {
    "id": "fmN9566u5QsX"
   },
   "source": [
    "### What about long tweets?"
   ]
  },
  {
   "cell_type": "code",
   "execution_count": 24,
   "metadata": {
    "id": "2Dv2aZRv5QsY",
    "outputId": "e856bcba-79ac-46ce-c217-2a1eb0e874e2"
   },
   "outputs": [
    {
     "data": {
      "text/html": [
       "<div>\n",
       "<style scoped>\n",
       "    .dataframe tbody tr th:only-of-type {\n",
       "        vertical-align: middle;\n",
       "    }\n",
       "\n",
       "    .dataframe tbody tr th {\n",
       "        vertical-align: top;\n",
       "    }\n",
       "\n",
       "    .dataframe thead th {\n",
       "        text-align: right;\n",
       "    }\n",
       "</style>\n",
       "<table border=\"1\" class=\"dataframe\">\n",
       "  <thead>\n",
       "    <tr style=\"text-align: right;\">\n",
       "      <th></th>\n",
       "      <th>text</th>\n",
       "      <th>sentiment</th>\n",
       "      <th>text_clean</th>\n",
       "      <th>text_len</th>\n",
       "    </tr>\n",
       "  </thead>\n",
       "  <tbody>\n",
       "    <tr>\n",
       "      <th>395</th>\n",
       "      <td>#CBI files FIR against former CM Oommen Chandy...</td>\n",
       "      <td>Sexual Harassment</td>\n",
       "      <td>cbi file fir former cm oommen chandy aicc gene...</td>\n",
       "      <td>17</td>\n",
       "    </tr>\n",
       "    <tr>\n",
       "      <th>1484</th>\n",
       "      <td>This guy \\nNo job\\nLives with mommy \\nPOS\\nNo ...</td>\n",
       "      <td>Revenge Porn</td>\n",
       "      <td>guy job life mommy po lady need diet post ex r...</td>\n",
       "      <td>16</td>\n",
       "    </tr>\n",
       "    <tr>\n",
       "      <th>1064</th>\n",
       "      <td>@ThatUmbrella Eve Barlow: DOXING WOMEN IS BAD!...</td>\n",
       "      <td>Doxing</td>\n",
       "      <td>eve barlow doxing woman bad also eve barlow ti...</td>\n",
       "      <td>16</td>\n",
       "    </tr>\n",
       "    <tr>\n",
       "      <th>440</th>\n",
       "      <td>Luau Party partying hard at 10 on January 18th...</td>\n",
       "      <td>Sexual Harassment</td>\n",
       "      <td>luau party partying hard january th female wel...</td>\n",
       "      <td>16</td>\n",
       "    </tr>\n",
       "    <tr>\n",
       "      <th>39</th>\n",
       "      <td>Today: New York State Governor Andrew Cuomo an...</td>\n",
       "      <td>Sexual Harassment</td>\n",
       "      <td>today new york state governor andrew cuomo ann...</td>\n",
       "      <td>16</td>\n",
       "    </tr>\n",
       "    <tr>\n",
       "      <th>...</th>\n",
       "      <td>...</td>\n",
       "      <td>...</td>\n",
       "      <td>...</td>\n",
       "      <td>...</td>\n",
       "    </tr>\n",
       "    <tr>\n",
       "      <th>145</th>\n",
       "      <td>Sexual harassment!? S, sorry?</td>\n",
       "      <td>Sexual Harassment</td>\n",
       "      <td>sexual harassment sorry</td>\n",
       "      <td>3</td>\n",
       "    </tr>\n",
       "    <tr>\n",
       "      <th>1419</th>\n",
       "      <td>@yorkshiregirl91 @stephen__bear @Jessica_Smith...</td>\n",
       "      <td>Revenge Porn</td>\n",
       "      <td>international playboy international</td>\n",
       "      <td>3</td>\n",
       "    </tr>\n",
       "    <tr>\n",
       "      <th>1025</th>\n",
       "      <td>@ApartmentBoss Better than doxing the cia</td>\n",
       "      <td>Doxing</td>\n",
       "      <td>better doxing cia</td>\n",
       "      <td>3</td>\n",
       "    </tr>\n",
       "    <tr>\n",
       "      <th>952</th>\n",
       "      <td>@Ingajinga2020 @wilderfortruth @crow32352 They...</td>\n",
       "      <td>Doxing</td>\n",
       "      <td>doxing tucker carlson</td>\n",
       "      <td>3</td>\n",
       "    </tr>\n",
       "    <tr>\n",
       "      <th>22</th>\n",
       "      <td>@romanospili Sexual Harassment!!!</td>\n",
       "      <td>Sexual Harassment</td>\n",
       "      <td></td>\n",
       "      <td>0</td>\n",
       "    </tr>\n",
       "  </tbody>\n",
       "</table>\n",
       "<p>1814 rows × 4 columns</p>\n",
       "</div>"
      ],
      "text/plain": [
       "                                                   text          sentiment  \\\n",
       "395   #CBI files FIR against former CM Oommen Chandy...  Sexual Harassment   \n",
       "1484  This guy \\nNo job\\nLives with mommy \\nPOS\\nNo ...       Revenge Porn   \n",
       "1064  @ThatUmbrella Eve Barlow: DOXING WOMEN IS BAD!...             Doxing   \n",
       "440   Luau Party partying hard at 10 on January 18th...  Sexual Harassment   \n",
       "39    Today: New York State Governor Andrew Cuomo an...  Sexual Harassment   \n",
       "...                                                 ...                ...   \n",
       "145                       Sexual harassment!? S, sorry?  Sexual Harassment   \n",
       "1419  @yorkshiregirl91 @stephen__bear @Jessica_Smith...       Revenge Porn   \n",
       "1025          @ApartmentBoss Better than doxing the cia             Doxing   \n",
       "952   @Ingajinga2020 @wilderfortruth @crow32352 They...             Doxing   \n",
       "22                    @romanospili Sexual Harassment!!!  Sexual Harassment   \n",
       "\n",
       "                                             text_clean  text_len  \n",
       "395   cbi file fir former cm oommen chandy aicc gene...        17  \n",
       "1484  guy job life mommy po lady need diet post ex r...        16  \n",
       "1064  eve barlow doxing woman bad also eve barlow ti...        16  \n",
       "440   luau party partying hard january th female wel...        16  \n",
       "39    today new york state governor andrew cuomo ann...        16  \n",
       "...                                                 ...       ...  \n",
       "145                             sexual harassment sorry         3  \n",
       "1419                international playboy international         3  \n",
       "1025                                  better doxing cia         3  \n",
       "952                               doxing tucker carlson         3  \n",
       "22                                                              0  \n",
       "\n",
       "[1814 rows x 4 columns]"
      ]
     },
     "execution_count": 24,
     "metadata": {},
     "output_type": "execute_result"
    }
   ],
   "source": [
    "df.sort_values(by=['text_len'], ascending=False)"
   ]
  },
  {
   "cell_type": "code",
   "execution_count": 25,
   "metadata": {
    "_kg_hide-input": true,
    "id": "Zt9YFv935QsY",
    "outputId": "1aa5c793-4f13-4c37-e095-385ba9b93510"
   },
   "outputs": [
    {
     "data": {
      "image/png": "[encoded data removed]",
      "text/plain": [
       "<Figure size 1600x500 with 1 Axes>"
      ]
     },
     "metadata": {},
     "output_type": "display_data"
    }
   ],
   "source": [
    "plt.figure(figsize=(16,5))\n",
    "ax = sns.countplot(x='text_len', data=df[(df['text_len']<=1000) & (df['text_len']>10)],\n",
    "                   hue='text_len', palette='Blues_r', legend=False)\n",
    "plt.title('Count of tweets with high number of words', fontsize=25)\n",
    "plt.yticks([])\n",
    "ax.bar_label(ax.containers[0])\n",
    "plt.ylabel('count')\n",
    "plt.xlabel('')\n",
    "plt.show()"
   ]
  },
  {
   "cell_type": "markdown",
   "metadata": {
    "id": "JzY9dDnF5QsY"
   },
   "source": [
    "We also will remove tweets that are too long (with more than 100 words)."
   ]
  },
  {
   "cell_type": "code",
   "execution_count": 26,
   "metadata": {
    "id": "teb7a02F5QsY"
   },
   "outputs": [],
   "source": [
    "df = df[df['text_len'] < df['text_len'].quantile(0.995)]"
   ]
  },
  {
   "cell_type": "markdown",
   "metadata": {},
   "source": [
    "Then we also get the length of the longest tweet since it will be useful later."
   ]
  },
  {
   "cell_type": "code",
   "execution_count": 27,
   "metadata": {
    "id": "HyQak-0QI9Mk",
    "outputId": "3b02dbe1-c218-482b-9cac-e492265cda3c"
   },
   "outputs": [
    {
     "data": {
      "text/plain": [
       "14"
      ]
     },
     "execution_count": 27,
     "metadata": {},
     "output_type": "execute_result"
    }
   ],
   "source": [
    "max_len = np.max(df['text_len'])\n",
    "max_len "
   ]
  },
  {
   "cell_type": "code",
   "execution_count": 28,
   "metadata": {
    "id": "NZD-8GJd5Qsa",
    "outputId": "ded71a92-9493-4b03-f38e-3313f05a43e8"
   },
   "outputs": [
    {
     "data": {
      "text/html": [
       "<div>\n",
       "<style scoped>\n",
       "    .dataframe tbody tr th:only-of-type {\n",
       "        vertical-align: middle;\n",
       "    }\n",
       "\n",
       "    .dataframe tbody tr th {\n",
       "        vertical-align: top;\n",
       "    }\n",
       "\n",
       "    .dataframe thead th {\n",
       "        text-align: right;\n",
       "    }\n",
       "</style>\n",
       "<table border=\"1\" class=\"dataframe\">\n",
       "  <thead>\n",
       "    <tr style=\"text-align: right;\">\n",
       "      <th></th>\n",
       "      <th>text</th>\n",
       "      <th>sentiment</th>\n",
       "      <th>text_clean</th>\n",
       "      <th>text_len</th>\n",
       "    </tr>\n",
       "  </thead>\n",
       "  <tbody>\n",
       "    <tr>\n",
       "      <th>1275</th>\n",
       "      <td>\"People believed Taylorâs lies that I stole ...</td>\n",
       "      <td>Revenge Porn</td>\n",
       "      <td>people believed taylor lie stole client leaked...</td>\n",
       "      <td>14</td>\n",
       "    </tr>\n",
       "    <tr>\n",
       "      <th>710</th>\n",
       "      <td>Yep! Dana, Paula, Marylin, Kelly, etc. are all...</td>\n",
       "      <td>Cyberstalking</td>\n",
       "      <td>yep dana paula marylin kelly etc going jail co...</td>\n",
       "      <td>14</td>\n",
       "    </tr>\n",
       "    <tr>\n",
       "      <th>1775</th>\n",
       "      <td>Yes I love this year's big brother all these i...</td>\n",
       "      <td>Slut Shaming</td>\n",
       "      <td>yes love year big brother issue happen everyon...</td>\n",
       "      <td>14</td>\n",
       "    </tr>\n",
       "    <tr>\n",
       "      <th>1146</th>\n",
       "      <td>Come on by and have some fun in the Tg &amp;amp; V...</td>\n",
       "      <td>Doxing</td>\n",
       "      <td>come fun tg amp vc doxing poll team member dev...</td>\n",
       "      <td>14</td>\n",
       "    </tr>\n",
       "    <tr>\n",
       "      <th>240</th>\n",
       "      <td>The casual nature of sexual harassment in this...</td>\n",
       "      <td>Sexual Harassment</td>\n",
       "      <td>casual nature sexual harassment country sicken...</td>\n",
       "      <td>14</td>\n",
       "    </tr>\n",
       "    <tr>\n",
       "      <th>...</th>\n",
       "      <td>...</td>\n",
       "      <td>...</td>\n",
       "      <td>...</td>\n",
       "      <td>...</td>\n",
       "    </tr>\n",
       "    <tr>\n",
       "      <th>1791</th>\n",
       "      <td>not my lola slut-shaming my catð­âð»âð»</td>\n",
       "      <td>Slut Shaming</td>\n",
       "      <td>lola slutshaming cat</td>\n",
       "      <td>3</td>\n",
       "    </tr>\n",
       "    <tr>\n",
       "      <th>1195</th>\n",
       "      <td>@WallStreetJane @SummitCountySO Doxing is ille...</td>\n",
       "      <td>Doxing</td>\n",
       "      <td>doxing illegal jane</td>\n",
       "      <td>3</td>\n",
       "    </tr>\n",
       "    <tr>\n",
       "      <th>145</th>\n",
       "      <td>Sexual harassment!? S, sorry?</td>\n",
       "      <td>Sexual Harassment</td>\n",
       "      <td>sexual harassment sorry</td>\n",
       "      <td>3</td>\n",
       "    </tr>\n",
       "    <tr>\n",
       "      <th>944</th>\n",
       "      <td>This guy needs doxingâ¦ https://t.co/bMEPotN2W8</td>\n",
       "      <td>Doxing</td>\n",
       "      <td>guy need doxing</td>\n",
       "      <td>3</td>\n",
       "    </tr>\n",
       "    <tr>\n",
       "      <th>22</th>\n",
       "      <td>@romanospili Sexual Harassment!!!</td>\n",
       "      <td>Sexual Harassment</td>\n",
       "      <td></td>\n",
       "      <td>0</td>\n",
       "    </tr>\n",
       "  </tbody>\n",
       "</table>\n",
       "<p>1790 rows × 4 columns</p>\n",
       "</div>"
      ],
      "text/plain": [
       "                                                   text          sentiment  \\\n",
       "1275  \"People believed Taylorâs lies that I stole ...       Revenge Porn   \n",
       "710   Yep! Dana, Paula, Marylin, Kelly, etc. are all...      Cyberstalking   \n",
       "1775  Yes I love this year's big brother all these i...       Slut Shaming   \n",
       "1146  Come on by and have some fun in the Tg &amp; V...             Doxing   \n",
       "240   The casual nature of sexual harassment in this...  Sexual Harassment   \n",
       "...                                                 ...                ...   \n",
       "1791  not my lola slut-shaming my catð­âð»âð»       Slut Shaming   \n",
       "1195  @WallStreetJane @SummitCountySO Doxing is ille...             Doxing   \n",
       "145                       Sexual harassment!? S, sorry?  Sexual Harassment   \n",
       "944    This guy needs doxingâ¦ https://t.co/bMEPotN2W8             Doxing   \n",
       "22                    @romanospili Sexual Harassment!!!  Sexual Harassment   \n",
       "\n",
       "                                             text_clean  text_len  \n",
       "1275  people believed taylor lie stole client leaked...        14  \n",
       "710   yep dana paula marylin kelly etc going jail co...        14  \n",
       "1775  yes love year big brother issue happen everyon...        14  \n",
       "1146  come fun tg amp vc doxing poll team member dev...        14  \n",
       "240   casual nature sexual harassment country sicken...        14  \n",
       "...                                                 ...       ...  \n",
       "1791                               lola slutshaming cat         3  \n",
       "1195                                doxing illegal jane         3  \n",
       "145                             sexual harassment sorry         3  \n",
       "944                                     guy need doxing         3  \n",
       "22                                                              0  \n",
       "\n",
       "[1790 rows x 4 columns]"
      ]
     },
     "execution_count": 28,
     "metadata": {},
     "output_type": "execute_result"
    }
   ],
   "source": [
    "df.sort_values(by=[\"text_len\"], ascending=False)"
   ]
  },
  {
   "cell_type": "markdown",
   "metadata": {},
   "source": [
    "## Sentiment column encoding"
   ]
  },
  {
   "cell_type": "markdown",
   "metadata": {},
   "source": [
    "The target column will be encoded by ordinal encoding"
   ]
  },
  {
   "cell_type": "code",
   "execution_count": 29,
   "metadata": {
    "id": "NIS_nyXBG416"
   },
   "outputs": [
    {
     "name": "stderr",
     "output_type": "stream",
     "text": [
      "C:\\Users\\USTB\\AppData\\Local\\Temp\\ipykernel_15036\\3582277428.py:1: FutureWarning: Downcasting behavior in `replace` is deprecated and will be removed in a future version. To retain the old behavior, explicitly call `result.infer_objects(copy=False)`. To opt-in to the future behavior, set `pd.set_option('future.no_silent_downcasting', True)`\n",
      "  df['sentiment'] = df['sentiment'].replace({'Cyberstalking':0, 'Revenge Porn':1, 'Doxing':2, 'Sexual Harassment':3, 'Slut Shaming':4})\n",
      "C:\\Users\\USTB\\AppData\\Local\\Temp\\ipykernel_15036\\3582277428.py:1: SettingWithCopyWarning: \n",
      "A value is trying to be set on a copy of a slice from a DataFrame.\n",
      "Try using .loc[row_indexer,col_indexer] = value instead\n",
      "\n",
      "See the caveats in the documentation: https://pandas.pydata.org/pandas-docs/stable/user_guide/indexing.html#returning-a-view-versus-a-copy\n",
      "  df['sentiment'] = df['sentiment'].replace({'Cyberstalking':0, 'Revenge Porn':1, 'Doxing':2, 'Sexual Harassment':3, 'Slut Shaming':4})\n"
     ]
    }
   ],
   "source": [
    "df['sentiment'] = df['sentiment'].replace({'Cyberstalking':0, 'Revenge Porn':1, 'Doxing':2, 'Sexual Harassment':3, 'Slut Shaming':4})"
   ]
  },
  {
   "cell_type": "markdown",
   "metadata": {
    "id": "ELMGaiE-F7yn"
   },
   "source": [
    "## Train - Test split"
   ]
  },
  {
   "cell_type": "markdown",
   "metadata": {
    "id": "jrLwRbummpEq"
   },
   "source": [
    "Now we need to split the dataset into a train and test sets."
   ]
  },
  {
   "cell_type": "code",
   "execution_count": 30,
   "metadata": {
    "id": "BF01CgBtBONZ"
   },
   "outputs": [],
   "source": [
    "X = df['text_clean']\n",
    "y = df['sentiment']"
   ]
  },
  {
   "cell_type": "code",
   "execution_count": 31,
   "metadata": {
    "id": "fvQexohPGAZf"
   },
   "outputs": [],
   "source": [
    "X_train, X_test, y_train, y_test = train_test_split(X, y, test_size=0.2, stratify=y, random_state=seed_value)"
   ]
  },
  {
   "cell_type": "markdown",
   "metadata": {
    "id": "A0d0lSX0GbNS"
   },
   "source": [
    "## Train - Validation split"
   ]
  },
  {
   "cell_type": "markdown",
   "metadata": {
    "id": "0OsrkfnCmtk0"
   },
   "source": [
    "Moreover, we will further split the training set to extract a validation set, which will be used to monior the accuracy and loss to avoid overfitting during the model training."
   ]
  },
  {
   "cell_type": "code",
   "execution_count": 32,
   "metadata": {
    "id": "1KyTh6H5GbR4"
   },
   "outputs": [],
   "source": [
    "X_train, X_valid, y_train, y_valid = train_test_split(X_train, y_train, test_size=0.2, stratify=y_train, random_state=seed_value)"
   ]
  },
  {
   "cell_type": "code",
   "execution_count": 33,
   "metadata": {
    "id": "N-mC3qyuBONc",
    "outputId": "f2951106-29bf-4611-e420-84b7d19c4fc9"
   },
   "outputs": [
    {
     "data": {
      "text/plain": [
       "array([[  0, 165],\n",
       "       [  1, 221],\n",
       "       [  2, 235],\n",
       "       [  3, 239],\n",
       "       [  4, 285]], dtype=int64)"
      ]
     },
     "execution_count": 33,
     "metadata": {},
     "output_type": "execute_result"
    }
   ],
   "source": [
    "(unique, counts) = np.unique(y_train, return_counts=True)\n",
    "np.asarray((unique, counts)).T"
   ]
  },
  {
   "cell_type": "markdown",
   "metadata": {
    "id": "45AGAxHSnCXW"
   },
   "source": [
    "The classes are unbalanced, so it could be a good idea to oversample the training set such that all classes have the same count as the most populated one."
   ]
  },
  {
   "cell_type": "markdown",
   "metadata": {
    "id": "Geqa3e3zGUNL"
   },
   "source": [
    "# Oversampling of training set"
   ]
  },
  {
   "cell_type": "code",
   "execution_count": 34,
   "metadata": {
    "id": "JN5OCli8BONe"
   },
   "outputs": [],
   "source": [
    "ros = RandomOverSampler()\n",
    "X_train, y_train = ros.fit_resample(np.array(X_train).reshape(-1, 1), np.array(y_train).reshape(-1, 1));\n",
    "train_os = pd.DataFrame(list(zip([x[0] for x in X_train], y_train)), columns = ['text_clean', 'sentiment']);"
   ]
  },
  {
   "cell_type": "code",
   "execution_count": 35,
   "metadata": {
    "id": "qAwnlrGoBONe"
   },
   "outputs": [],
   "source": [
    "X_train = train_os['text_clean'].values\n",
    "y_train = train_os['sentiment'].values"
   ]
  },
  {
   "cell_type": "code",
   "execution_count": 36,
   "metadata": {
    "id": "zNopbN4gBONe",
    "outputId": "77ac78ff-a8ce-48f8-923c-57f5b8dc066f"
   },
   "outputs": [
    {
     "data": {
      "text/plain": [
       "array([[  0, 285],\n",
       "       [  1, 285],\n",
       "       [  2, 285],\n",
       "       [  3, 285],\n",
       "       [  4, 285]], dtype=int64)"
      ]
     },
     "execution_count": 36,
     "metadata": {},
     "output_type": "execute_result"
    }
   ],
   "source": [
    "(unique, counts) = np.unique(y_train, return_counts=True)\n",
    "np.asarray((unique, counts)).T"
   ]
  },
  {
   "cell_type": "markdown",
   "metadata": {},
   "source": [
    "# BERT Classification"
   ]
  },
  {
   "cell_type": "markdown",
   "metadata": {},
   "source": [
    "In this section, we will load a pre trained BERT model from the Hugging Face library and fine tune it for our classification task."
   ]
  },
  {
   "cell_type": "markdown",
   "metadata": {},
   "source": [
    "First, we need to split the dataset into train - validation - test again since we need to tokenize the sentences differently from before (Naive Bayes and LSTM)."
   ]
  },
  {
   "cell_type": "markdown",
   "metadata": {},
   "source": [
    "## Train - Validation - Test split"
   ]
  },
  {
   "cell_type": "code",
   "execution_count": 37,
   "metadata": {},
   "outputs": [],
   "source": [
    "X = df['text_clean'].values\n",
    "y = df['sentiment'].values"
   ]
  },
  {
   "cell_type": "code",
   "execution_count": 38,
   "metadata": {},
   "outputs": [],
   "source": [
    "X_train, X_test, y_train, y_test = train_test_split(X, y, test_size=0.2, stratify=y, random_state=seed_value)"
   ]
  },
  {
   "cell_type": "code",
   "execution_count": 39,
   "metadata": {},
   "outputs": [],
   "source": [
    "X_train, X_valid, y_train, y_valid = train_test_split(X_train, y_train, test_size=0.2, stratify=y_train, random_state=seed_value)"
   ]
  },
  {
   "cell_type": "markdown",
   "metadata": {},
   "source": [
    "As seen before, we oversample the text to the majority class."
   ]
  },
  {
   "cell_type": "code",
   "execution_count": 40,
   "metadata": {},
   "outputs": [],
   "source": [
    "ros = RandomOverSampler()\n",
    "X_train_os, y_train_os = ros.fit_resample(np.array(X_train).reshape(-1,1),np.array(y_train).reshape(-1,1))"
   ]
  },
  {
   "cell_type": "code",
   "execution_count": 41,
   "metadata": {},
   "outputs": [],
   "source": [
    "X_train_os = X_train_os.flatten()\n",
    "y_train_os = y_train_os.flatten()"
   ]
  },
  {
   "cell_type": "code",
   "execution_count": 42,
   "metadata": {},
   "outputs": [
    {
     "data": {
      "text/plain": [
       "array([[  0, 285],\n",
       "       [  1, 285],\n",
       "       [  2, 285],\n",
       "       [  3, 285],\n",
       "       [  4, 285]], dtype=int64)"
      ]
     },
     "execution_count": 42,
     "metadata": {},
     "output_type": "execute_result"
    }
   ],
   "source": [
    "(unique, counts) = np.unique(y_train_os, return_counts=True)\n",
    "np.asarray((unique, counts)).T"
   ]
  },
  {
   "cell_type": "markdown",
   "metadata": {},
   "source": [
    "# BERT Tokenization"
   ]
  },
  {
   "cell_type": "markdown",
   "metadata": {},
   "source": [
    "Since we need to tokenize the tweets (get \"input ids\" and \"attention masks\") for BERT, we load the specific BERT tokenizer from the Hugging Face library."
   ]
  },
  {
   "cell_type": "code",
   "execution_count": 43,
   "metadata": {},
   "outputs": [],
   "source": [
    "tokenizer = BertTokenizer.from_pretrained('bert-base-uncased', do_lower_case=True)"
   ]
  },
  {
   "cell_type": "markdown",
   "metadata": {
    "execution": {
     "iopub.execute_input": "2022-03-15T08:35:46.046364Z",
     "iopub.status.busy": "2022-03-15T08:35:46.046010Z",
     "iopub.status.idle": "2022-03-15T08:35:46.076692Z",
     "shell.execute_reply": "2022-03-15T08:35:46.075417Z",
     "shell.execute_reply.started": "2022-03-15T08:35:46.046277Z"
    }
   },
   "source": [
    "Then we define a custom tokenizer function using the loaded tokenizer."
   ]
  },
  {
   "cell_type": "code",
   "execution_count": 44,
   "metadata": {},
   "outputs": [],
   "source": [
    "def bert_tokenizer(data):\n",
    "    input_ids = []\n",
    "    attention_masks = []\n",
    "    for sent in data:\n",
    "        encoded_sent = tokenizer.encode_plus(\n",
    "            text=sent,\n",
    "            add_special_tokens=True,        # Add `[CLS]` and `[SEP]` special tokens\n",
    "            max_length=MAX_LEN,             # Choose max length to truncate/pad\n",
    "            pad_to_max_length=True,         # Pad sentence to max length \n",
    "            return_attention_mask=True      # Return attention mask\n",
    "            )\n",
    "        input_ids.append(encoded_sent.get('input_ids'))\n",
    "        attention_masks.append(encoded_sent.get('attention_mask'))\n",
    "\n",
    "    # Convert lists to tensors\n",
    "    input_ids = torch.tensor(input_ids)\n",
    "    attention_masks = torch.tensor(attention_masks)\n",
    "\n",
    "    return input_ids, attention_masks"
   ]
  },
  {
   "cell_type": "markdown",
   "metadata": {},
   "source": [
    "Since we need to specify the length of the longest tokenized sentence, we tokenize the train tweets using the \"encode\" method of the original BERT tokenizer and check the longest sentence."
   ]
  },
  {
   "cell_type": "code",
   "execution_count": 45,
   "metadata": {},
   "outputs": [
    {
     "name": "stdout",
     "output_type": "stream",
     "text": [
      "Max length:  28\n"
     ]
    }
   ],
   "source": [
    "# Tokenize train tweets\n",
    "encoded_tweets = [tokenizer.encode(sent, add_special_tokens=True) for sent in X_train]\n",
    "\n",
    "# Find the longest tokenized tweet\n",
    "max_len = max([len(sent) for sent in encoded_tweets])\n",
    "print('Max length: ', max_len)"
   ]
  },
  {
   "cell_type": "markdown",
   "metadata": {},
   "source": [
    "We can choose the max length as 128."
   ]
  },
  {
   "cell_type": "code",
   "execution_count": 46,
   "metadata": {},
   "outputs": [],
   "source": [
    "MAX_LEN = 128"
   ]
  },
  {
   "cell_type": "markdown",
   "metadata": {},
   "source": [
    "Then we can tokenize the train, validation and test tweets using the custom define tokenizer."
   ]
  },
  {
   "cell_type": "code",
   "execution_count": 47,
   "metadata": {
    "_kg_hide-output": true
   },
   "outputs": [
    {
     "name": "stderr",
     "output_type": "stream",
     "text": [
      "Truncation was not explicitly activated but `max_length` is provided a specific value, please use `truncation=True` to explicitly truncate examples to max length. Defaulting to 'longest_first' truncation strategy. If you encode pairs of sequences (GLUE-style) with the tokenizer you can select this strategy more precisely by providing a specific strategy to `truncation`.\n",
      "C:\\Users\\USTB\\anaconda3\\Lib\\site-packages\\transformers\\tokenization_utils_base.py:2834: FutureWarning: The `pad_to_max_length` argument is deprecated and will be removed in a future version, use `padding=True` or `padding='longest'` to pad to the longest sequence in the batch, or use `padding='max_length'` to pad to a max length. In this case, you can give a specific length with `max_length` (e.g. `max_length=45`) or leave max_length to None to pad to the maximal input size of the model (e.g. 512 for Bert).\n",
      "  warnings.warn(\n"
     ]
    }
   ],
   "source": [
    "train_inputs, train_masks = bert_tokenizer(X_train_os)\n",
    "val_inputs, val_masks = bert_tokenizer(X_valid)\n",
    "test_inputs, test_masks = bert_tokenizer(X_test)"
   ]
  },
  {
   "cell_type": "markdown",
   "metadata": {},
   "source": [
    "## Data preprocessing for BERT model"
   ]
  },
  {
   "cell_type": "markdown",
   "metadata": {},
   "source": [
    "Since we are using the BERT model built, we need to convert the arrays to tensors and create dataloaders for the data."
   ]
  },
  {
   "cell_type": "code",
   "execution_count": 48,
   "metadata": {},
   "outputs": [],
   "source": [
    "# Convert target columns to pytorch tensors format\n",
    "train_labels = torch.from_numpy(y_train_os)\n",
    "val_labels = torch.from_numpy(y_valid)\n",
    "test_labels = torch.from_numpy(y_test)"
   ]
  },
  {
   "cell_type": "markdown",
   "metadata": {},
   "source": [
    "## Dataloaders"
   ]
  },
  {
   "cell_type": "markdown",
   "metadata": {},
   "source": [
    "To fine-tune the BERT model, the original authors recommend a batch size of 16 or 32."
   ]
  },
  {
   "cell_type": "code",
   "execution_count": 49,
   "metadata": {},
   "outputs": [],
   "source": [
    "batch_size = 32"
   ]
  },
  {
   "cell_type": "code",
   "execution_count": 50,
   "metadata": {},
   "outputs": [],
   "source": [
    "# Create the DataLoader for our training set\n",
    "train_data = TensorDataset(train_inputs, train_masks, train_labels)\n",
    "train_sampler = RandomSampler(train_data)\n",
    "train_dataloader = DataLoader(train_data, sampler=train_sampler, batch_size=batch_size)\n",
    "\n",
    "# Create the DataLoader for our validation set\n",
    "val_data = TensorDataset(val_inputs, val_masks, val_labels)\n",
    "val_sampler = SequentialSampler(val_data)\n",
    "val_dataloader = DataLoader(val_data, sampler=val_sampler, batch_size=batch_size)\n",
    "\n",
    "# Create the DataLoader for our test set\n",
    "test_data = TensorDataset(test_inputs, test_masks, test_labels)\n",
    "test_sampler = SequentialSampler(test_data)\n",
    "test_dataloader = DataLoader(test_data, sampler=test_sampler, batch_size=batch_size)"
   ]
  },
  {
   "cell_type": "markdown",
   "metadata": {},
   "source": [
    "# BERT Modeling"
   ]
  },
  {
   "cell_type": "markdown",
   "metadata": {},
   "source": [
    "Now we can create a custom BERT classifier class, including the original BERT model (made of transformer layers) and additional Dense layers to perform the desired classification task."
   ]
  },
  {
   "cell_type": "code",
   "execution_count": 51,
   "metadata": {},
   "outputs": [],
   "source": [
    "class Bert_Classifier(nn.Module):\n",
    "    def __init__(self, freeze_bert=False):\n",
    "        super(Bert_Classifier, self).__init__()\n",
    "        # Specify hidden size of BERT, hidden size of the classifier, and number of labels\n",
    "        n_input = 768\n",
    "        n_hidden = 50\n",
    "        n_output = 5\n",
    "\n",
    "        # Instantiate BERT model\n",
    "        self.bert = BertModel.from_pretrained('bert-base-uncased')\n",
    "\n",
    "        # Instantiate the classifier (a fully connected layer followed by a ReLU activation and another fully connected layer)\n",
    "        self.classifier = nn.Sequential(\n",
    "            nn.Linear(n_input, n_hidden),\n",
    "            nn.ReLU(),\n",
    "            nn.Linear(n_hidden, n_output)\n",
    "        )\n",
    "\n",
    "        # Freeze the BERT model weights if freeze_bert is True (useful for feature extraction without fine-tuning)\n",
    "        if freeze_bert:\n",
    "            for param in self.bert.parameters():\n",
    "                param.requires_grad = False\n",
    "\n",
    "    def forward(self, input_ids, attention_mask):\n",
    "        # Feed input data (input_ids and attention_mask) to BERT\n",
    "        outputs = self.bert(input_ids=input_ids,\n",
    "                            attention_mask=attention_mask)\n",
    "\n",
    "        # Extract the last hidden state of the `[CLS]` token from the BERT output (useful for classification tasks)\n",
    "        last_hidden_state_cls = outputs[0][:, 0, :]\n",
    "\n",
    "        # Feed the extracted hidden state to the classifier to compute logits\n",
    "        logits = self.classifier(last_hidden_state_cls)\n",
    "\n",
    "        return logits"
   ]
  },
  {
   "cell_type": "markdown",
   "metadata": {},
   "source": [
    "Moreover, since we want to define a learning rate scheduler, we define a custom \"initalize_model\" function as follows."
   ]
  },
  {
   "cell_type": "code",
   "execution_count": 52,
   "metadata": {},
   "outputs": [],
   "source": [
    "# Function for initializing the BERT Classifier model, optimizer, and learning rate scheduler\n",
    "def initialize_model(epochs=4):\n",
    "    # Instantiate Bert Classifier\n",
    "    bert_classifier = Bert_Classifier(freeze_bert=False)\n",
    "\n",
    "    bert_classifier.to(device)\n",
    "\n",
    "    # Set up optimizer\n",
    "    optimizer = AdamW(bert_classifier.parameters(),\n",
    "                      lr=5e-5,    # learning rate, set to default value\n",
    "                      eps=1e-8    # decay, set to default value\n",
    "                      )\n",
    "\n",
    "    # Calculate total number of training steps\n",
    "    total_steps = len(train_dataloader) * epochs\n",
    "\n",
    "    # Define the learning rate scheduler\n",
    "    scheduler = get_linear_schedule_with_warmup(optimizer,\n",
    "                                                num_warmup_steps=0, # Default value\n",
    "                                                num_training_steps=total_steps)\n",
    "    return bert_classifier, optimizer, scheduler"
   ]
  },
  {
   "cell_type": "markdown",
   "metadata": {},
   "source": [
    "We also specify the use of GPU if present (highly recommended for the fine tuning)"
   ]
  },
  {
   "cell_type": "code",
   "execution_count": 53,
   "metadata": {},
   "outputs": [],
   "source": [
    "device = 'cuda' if torch.cuda.is_available() else 'cpu'\n",
    "EPOCHS=2"
   ]
  },
  {
   "cell_type": "markdown",
   "metadata": {},
   "source": [
    "And then we intialize the BERT model calling the \"initialize_model\" function we defined."
   ]
  },
  {
   "cell_type": "code",
   "execution_count": 54,
   "metadata": {
    "_kg_hide-output": true
   },
   "outputs": [
    {
     "name": "stderr",
     "output_type": "stream",
     "text": [
      "C:\\Users\\USTB\\anaconda3\\Lib\\site-packages\\transformers\\optimization.py:591: FutureWarning: This implementation of AdamW is deprecated and will be removed in a future version. Use the PyTorch implementation torch.optim.AdamW instead, or set `no_deprecation_warning=True` to disable this warning\n",
      "  warnings.warn(\n"
     ]
    }
   ],
   "source": [
    "bert_classifier, optimizer, scheduler = initialize_model(epochs=EPOCHS)"
   ]
  },
  {
   "cell_type": "markdown",
   "metadata": {},
   "source": [
    "# BERT Training"
   ]
  },
  {
   "cell_type": "markdown",
   "metadata": {},
   "source": [
    "After defining the custom BERT classifier model, we are ready to start the training."
   ]
  },
  {
   "cell_type": "code",
   "execution_count": 55,
   "metadata": {},
   "outputs": [],
   "source": [
    "# Define Cross entropy Loss function for the multiclass classification task\n",
    "loss_fn = nn.CrossEntropyLoss()\n",
    "\n",
    "def bert_train(model, train_dataloader, val_dataloader=None, epochs=4, evaluation=False):\n",
    "\n",
    "    print(\"Start training...\\n\")\n",
    "    for epoch_i in range(epochs):\n",
    "        print(\"-\"*10)\n",
    "        print(\"Epoch : {}\".format(epoch_i+1))\n",
    "        print(\"-\"*10)\n",
    "        print(\"-\"*38)\n",
    "        print(f\"{'BATCH NO.':^7} | {'TRAIN LOSS':^12} | {'ELAPSED (s)':^9}\")\n",
    "        print(\"-\"*38)\n",
    "\n",
    "        # Measure the elapsed time of each epoch\n",
    "        t0_epoch, t0_batch = time.time(), time.time()\n",
    "\n",
    "        # Reset tracking variables at the beginning of each epoch\n",
    "        total_loss, batch_loss, batch_counts = 0, 0, 0\n",
    "        \n",
    "        ###TRAINING###\n",
    "\n",
    "        # Put the model into the training mode\n",
    "        model.train()\n",
    "\n",
    "        for step, batch in enumerate(train_dataloader):\n",
    "            batch_counts +=1\n",
    "            \n",
    "            b_input_ids, b_attn_mask, b_labels = tuple(t.to(device) for t in batch)\n",
    "\n",
    "            # Zero out any previously calculated gradients\n",
    "            model.zero_grad()\n",
    "\n",
    "            # Perform a forward pass and get logits.\n",
    "            logits = model(b_input_ids, b_attn_mask)\n",
    "\n",
    "            # Compute loss and accumulate the loss values\n",
    "            loss = loss_fn(logits, b_labels)\n",
    "            batch_loss += loss.item()\n",
    "            total_loss += loss.item()\n",
    "\n",
    "            # Perform a backward pass to calculate gradients\n",
    "            loss.backward()\n",
    "\n",
    "            # Clip the norm of the gradients to 1.0 to prevent \"exploding gradients\"\n",
    "            torch.nn.utils.clip_grad_norm_(model.parameters(), 1.0)\n",
    "\n",
    "            # Update model parameters:\n",
    "            # fine tune BERT params and train additional dense layers\n",
    "            optimizer.step()\n",
    "            # update learning rate\n",
    "            scheduler.step()\n",
    "\n",
    "            # Print the loss values and time elapsed for every 100 batches\n",
    "            if (step % 100 == 0 and step != 0) or (step == len(train_dataloader) - 1):\n",
    "                # Calculate time elapsed for 20 batches\n",
    "                time_elapsed = time.time() - t0_batch\n",
    "                \n",
    "                print(f\"{step:^9} | {batch_loss / batch_counts:^12.6f} | {time_elapsed:^9.2f}\")\n",
    "\n",
    "                # Reset batch tracking variables\n",
    "                batch_loss, batch_counts = 0, 0\n",
    "                t0_batch = time.time()\n",
    "\n",
    "        # Calculate the average loss over the entire training data\n",
    "        avg_train_loss = total_loss / len(train_dataloader)\n",
    "\n",
    "        ###EVALUATION###\n",
    "        \n",
    "        # Put the model into the evaluation mode\n",
    "        model.eval()\n",
    "        \n",
    "        # Define empty lists to host accuracy and validation for each batch\n",
    "        val_accuracy = []\n",
    "        val_loss = []\n",
    "\n",
    "        for batch in val_dataloader:\n",
    "            batch_input_ids, batch_attention_mask, batch_labels = tuple(t.to(device) for t in batch)\n",
    "            \n",
    "            # We do not want to update the params during the evaluation,\n",
    "            # So we specify that we dont want to compute the gradients of the tensors\n",
    "            # by calling the torch.no_grad() method\n",
    "            with torch.no_grad():\n",
    "                logits = model(batch_input_ids, batch_attention_mask)\n",
    "\n",
    "            loss = loss_fn(logits, batch_labels)\n",
    "\n",
    "            val_loss.append(loss.item())\n",
    "\n",
    "            # Get the predictions starting from the logits (get index of highest logit)\n",
    "            preds = torch.argmax(logits, dim=1).flatten()\n",
    "\n",
    "            # Calculate the validation accuracy \n",
    "            accuracy = (preds == batch_labels).cpu().numpy().mean() * 100\n",
    "            val_accuracy.append(accuracy)\n",
    "\n",
    "        # Compute the average accuracy and loss over the validation set\n",
    "        val_loss = np.mean(val_loss)\n",
    "        val_accuracy = np.mean(val_accuracy)\n",
    "        \n",
    "        # Print performance over the entire training data\n",
    "        time_elapsed = time.time() - t0_epoch\n",
    "        print(\"-\"*61)\n",
    "        print(f\"{'AVG TRAIN LOSS':^12} | {'VAL LOSS':^10} | {'VAL ACCURACY (%)':^9} | {'ELAPSED (s)':^9}\")\n",
    "        print(\"-\"*61)\n",
    "        print(f\"{avg_train_loss:^14.6f} | {val_loss:^10.6f} | {val_accuracy:^17.2f} | {time_elapsed:^9.2f}\")\n",
    "        print(\"-\"*61)\n",
    "        print(\"\\n\")\n",
    "    \n",
    "    print(\"Training complete!\")"
   ]
  },
  {
   "cell_type": "code",
   "execution_count": 56,
   "metadata": {},
   "outputs": [
    {
     "name": "stdout",
     "output_type": "stream",
     "text": [
      "Start training...\n",
      "\n",
      "----------\n",
      "Epoch : 1\n",
      "----------\n",
      "--------------------------------------\n",
      "BATCH NO. |  TRAIN LOSS  | ELAPSED (s)\n",
      "--------------------------------------\n",
      "   44     |   1.067286   |  134.63  \n",
      "-------------------------------------------------------------\n",
      "AVG TRAIN LOSS |  VAL LOSS  | VAL ACCURACY (%) | ELAPSED (s)\n",
      "-------------------------------------------------------------\n",
      "   1.067286    |  0.642316  |       80.16       |  149.68  \n",
      "-------------------------------------------------------------\n",
      "\n",
      "\n",
      "----------\n",
      "Epoch : 2\n",
      "----------\n",
      "--------------------------------------\n",
      "BATCH NO. |  TRAIN LOSS  | ELAPSED (s)\n",
      "--------------------------------------\n",
      "   44     |   0.448275   |  134.85  \n",
      "-------------------------------------------------------------\n",
      "AVG TRAIN LOSS |  VAL LOSS  | VAL ACCURACY (%) | ELAPSED (s)\n",
      "-------------------------------------------------------------\n",
      "   0.448275    |  0.586594  |       80.86       |  150.53  \n",
      "-------------------------------------------------------------\n",
      "\n",
      "\n",
      "Training complete!\n"
     ]
    }
   ],
   "source": [
    "bert_train(bert_classifier, train_dataloader, val_dataloader, epochs=EPOCHS)"
   ]
  },
  {
   "cell_type": "markdown",
   "metadata": {},
   "source": [
    "# BERT Prediction"
   ]
  },
  {
   "cell_type": "markdown",
   "metadata": {},
   "source": [
    "Now we define a function similar to the model \"evaluation\", where we feed to the model the test data instead of the validation data."
   ]
  },
  {
   "cell_type": "code",
   "execution_count": 57,
   "metadata": {},
   "outputs": [],
   "source": [
    "import time\n",
    "import psutil\n",
    "from sklearn.metrics import accuracy_score\n",
    "from codecarbon import EmissionsTracker\n",
    "import torch\n",
    "\n",
    "def bert_predict(model, test_dataloader, true_labels, device):\n",
    "    # Initialize the emissions tracker to monitor energy consumption\n",
    "    tracker = EmissionsTracker()\n",
    "    tracker.start()\n",
    "\n",
    "    # Define an empty list to host the predictions\n",
    "    preds_list = []\n",
    "    \n",
    "    # Put the model into evaluation mode\n",
    "    model.eval()\n",
    "\n",
    "    # Measure initial memory usage\n",
    "    process = psutil.Process()\n",
    "    initial_memory = process.memory_info().rss / (1024 * 1024)  # Convert to MB\n",
    "\n",
    "    # Start measuring inference time\n",
    "    start_time = time.time()  # Start the timer\n",
    "\n",
    "    # Loop through the batches in the dataloader\n",
    "    for batch in test_dataloader:\n",
    "        batch_input_ids, batch_attention_mask = tuple(t.to(device) for t in batch)[:2]\n",
    "        \n",
    "        # Avoid gradient calculation of tensors by using \"no_grad()\" method\n",
    "        with torch.no_grad():\n",
    "            logit = model(batch_input_ids, batch_attention_mask)\n",
    "        \n",
    "        # Get the index of the highest logit\n",
    "        pred = torch.argmax(logit, dim=1).cpu().numpy()\n",
    "        \n",
    "        # Append predicted class to list\n",
    "        preds_list.extend(pred)\n",
    "\n",
    "    # End measuring inference time\n",
    "    end_time = time.time()  # End the timer\n",
    "\n",
    "    # Calculate total inference time\n",
    "    inference_time = end_time - start_time\n",
    "\n",
    "    # Measure final memory usage\n",
    "    final_memory = process.memory_info().rss / (1024 * 1024)  # Convert to MB\n",
    "    memory_usage = final_memory - initial_memory  # In MB\n",
    "\n",
    "    # Assuming CPU usage as a proxy for energy consumption\n",
    "    cpu_usage = psutil.cpu_percent(interval=inference_time)\n",
    "\n",
    "    # Stop the emissions tracker and get energy consumption in kWh\n",
    "    emissions = tracker.stop()\n",
    "\n",
    "    # Calculate accuracy\n",
    "    accuracy = accuracy_score(true_labels, preds_list)\n",
    "\n",
    "    # Calculate error rate\n",
    "    error_rate = 1 - accuracy\n",
    "\n",
    "    # Print all the metrics\n",
    "    print(f\"Inference Time: {inference_time:.4f} seconds\")\n",
    "    print(f\"Accuracy: {accuracy:.4f}\")\n",
    "    print(f\"Error Rate: {error_rate:.4f}\")\n",
    "    print(f\"Memory Usage: {memory_usage:.2f} MB\")\n",
    "    print(f\"CPU Usage during Inference: {cpu_usage:.2f}%\")\n",
    "    print(f\"Energy Consumption: {emissions} kWh\")\n",
    "\n",
    "    return preds_list"
   ]
  },
  {
   "cell_type": "markdown",
   "metadata": {},
   "source": [
    "Then we can call the defined function and get the class predictions of the test data."
   ]
  },
  {
   "cell_type": "code",
   "execution_count": 58,
   "metadata": {},
   "outputs": [
    {
     "name": "stderr",
     "output_type": "stream",
     "text": [
      "[codecarbon INFO @ 03:48:04] [setup] RAM Tracking...\n",
      "[codecarbon INFO @ 03:48:04] [setup] GPU Tracking...\n",
      "[codecarbon INFO @ 03:48:04] Tracking Nvidia GPU via pynvml\n",
      "[codecarbon INFO @ 03:48:04] [setup] CPU Tracking...\n",
      "[codecarbon WARNING @ 03:48:04] No CPU tracking mode found. Falling back on CPU constant mode.\n",
      "[codecarbon WARNING @ 03:48:05] We saw that you have a 13th Gen Intel(R) Core(TM) i9-13900 but we don't know it. Please contact us.\n",
      "[codecarbon INFO @ 03:48:05] CPU Model on constant consumption mode: 13th Gen Intel(R) Core(TM) i9-13900\n",
      "[codecarbon INFO @ 03:48:05] >>> Tracker's metadata:\n",
      "[codecarbon INFO @ 03:48:05]   Platform system: Windows-10-10.0.22631-SP0\n",
      "[codecarbon INFO @ 03:48:05]   Python version: 3.11.5\n",
      "[codecarbon INFO @ 03:48:05]   CodeCarbon version: 2.2.2\n",
      "[codecarbon INFO @ 03:48:05]   Available RAM : 31.696 GB\n",
      "[codecarbon INFO @ 03:48:05]   CPU count: 32\n",
      "[codecarbon INFO @ 03:48:05]   CPU model: 13th Gen Intel(R) Core(TM) i9-13900\n",
      "[codecarbon INFO @ 03:48:05]   GPU count: 1\n",
      "[codecarbon INFO @ 03:48:05]   GPU model: 1 x NVIDIA GeForce RTX 4090\n",
      "[codecarbon INFO @ 03:48:24] Energy consumed for RAM : 0.000050 kWh. RAM Power : 11.886009693145752 W\n",
      "[codecarbon INFO @ 03:48:24] Energy consumed for all GPUs : 0.000255 kWh. Total GPU Power : 61.165 W\n",
      "[codecarbon INFO @ 03:48:24] Energy consumed for all CPUs : 0.000177 kWh. Total CPU Power : 42.5 W\n",
      "[codecarbon INFO @ 03:48:24] 0.000482 kWh of electricity used since the beginning.\n",
      "[codecarbon INFO @ 03:48:39] Energy consumed for RAM : 0.000099 kWh. RAM Power : 11.886009693145752 W\n",
      "[codecarbon INFO @ 03:48:39] Energy consumed for all GPUs : 0.000509 kWh. Total GPU Power : 61.004 W\n",
      "[codecarbon INFO @ 03:48:39] Energy consumed for all CPUs : 0.000355 kWh. Total CPU Power : 42.5 W\n",
      "[codecarbon INFO @ 03:48:39] 0.000963 kWh of electricity used since the beginning.\n",
      "[codecarbon INFO @ 03:48:54] Energy consumed for RAM : 0.000149 kWh. RAM Power : 11.886009693145752 W\n",
      "[codecarbon INFO @ 03:48:54] Energy consumed for all GPUs : 0.000533 kWh. Total GPU Power : 5.62 W\n",
      "[codecarbon INFO @ 03:48:54] Energy consumed for all CPUs : 0.000532 kWh. Total CPU Power : 42.5 W\n",
      "[codecarbon INFO @ 03:48:54] 0.001213 kWh of electricity used since the beginning.\n",
      "[codecarbon INFO @ 03:49:09] Energy consumed for RAM : 0.000198 kWh. RAM Power : 11.886009693145752 W\n",
      "[codecarbon INFO @ 03:49:09] Energy consumed for all GPUs : 0.000789 kWh. Total GPU Power : 61.535000000000004 W\n",
      "[codecarbon INFO @ 03:49:09] Energy consumed for all CPUs : 0.000709 kWh. Total CPU Power : 42.5 W\n",
      "[codecarbon INFO @ 03:49:09] 0.001696 kWh of electricity used since the beginning.\n",
      "[codecarbon INFO @ 03:49:11] Energy consumed for RAM : 0.000206 kWh. RAM Power : 11.886009693145752 W\n",
      "[codecarbon INFO @ 03:49:11] Energy consumed for all GPUs : 0.000830 kWh. Total GPU Power : 61.11 W\n",
      "[codecarbon INFO @ 03:49:11] Energy consumed for all CPUs : 0.000737 kWh. Total CPU Power : 42.5 W\n",
      "[codecarbon INFO @ 03:49:11] 0.001773 kWh of electricity used since the beginning.\n"
     ]
    },
    {
     "name": "stdout",
     "output_type": "stream",
     "text": [
      "Inference Time: 31.2254 seconds\n",
      "Accuracy: 0.8547\n",
      "Error Rate: 0.1453\n",
      "Memory Usage: -96.38 MB\n",
      "CPU Usage during Inference: 0.40%\n",
      "Energy Consumption: 2.0484785291344588e-05 kWh\n"
     ]
    }
   ],
   "source": [
    "# Define the device\n",
    "device = torch.device(\"cuda\" if torch.cuda.is_available() else \"cpu\")\n",
    "\n",
    "# Extract true labels from the dataloader\n",
    "true_labels = []\n",
    "for batch in test_dataloader:\n",
    "    labels = batch[2].to(device).cpu().numpy()  # Ensure labels are moved to the CPU if on GPU\n",
    "    true_labels.extend(labels)\n",
    "\n",
    "# Make predictions\n",
    "bert_preds = bert_predict(bert_classifier, test_dataloader, true_labels, device)"
   ]
  },
  {
   "cell_type": "code",
   "execution_count": 59,
   "metadata": {},
   "outputs": [
    {
     "name": "stdout",
     "output_type": "stream",
     "text": [
      "Classification Report for BERT:\n",
      "                    precision    recall  f1-score   support\n",
      "\n",
      "    Cyberstalking       0.83      0.75      0.79        52\n",
      "     Revenge Porn       0.81      0.83      0.82        69\n",
      "           Doxing       0.87      0.84      0.85        73\n",
      "Sexual Harassment       0.86      0.87      0.86        75\n",
      "     Slut Shaming       0.88      0.94      0.91        89\n",
      "\n",
      "         accuracy                           0.85       358\n",
      "        macro avg       0.85      0.84      0.85       358\n",
      "     weighted avg       0.85      0.85      0.85       358\n",
      "\n"
     ]
    }
   ],
   "source": [
    "# Print classification report\n",
    "print('Classification Report for BERT:\\n', classification_report(y_test, bert_preds, target_names=sentiment))"
   ]
  },
  {
   "cell_type": "code",
   "execution_count": 60,
   "metadata": {},
   "outputs": [
    {
     "data": {
      "image/png": "[encoded data removed]",
      "text/plain": [
       "<Figure size 750x750 with 1 Axes>"
      ]
     },
     "metadata": {},
     "output_type": "display_data"
    }
   ],
   "source": [
    "conf_matrix(y_test, bert_preds,' BERT Sentiment Analysis\\nConfusion Matrix', sentiment)"
   ]
  },
  {
   "cell_type": "markdown",
   "metadata": {},
   "source": [
    "**The performance scores of BERT Classifier are quite high and higher than those achieved using the LSTM model, with an overall accuracy around 95% and F1 scores well over 95%.**<br>"
   ]
  },
  {
   "cell_type": "markdown",
   "metadata": {},
   "source": [
    "Thank your for checking out my notebook! Let me know if you have comments or if you want me to check out your work! :)"
   ]
  }
 ],
 "metadata": {
  "kernelspec": {
   "display_name": "Python 3 (ipykernel)",
   "language": "python",
   "name": "python3"
  },
  "language_info": {
   "codemirror_mode": {
    "name": "ipython",
    "version": 3
   },
   "file_extension": ".py",
   "mimetype": "text/x-python",
   "name": "python",
   "nbconvert_exporter": "python",
   "pygments_lexer": "ipython3",
   "version": "3.11.5"
  }
 },
 "nbformat": 4,
 "nbformat_minor": 4
}
